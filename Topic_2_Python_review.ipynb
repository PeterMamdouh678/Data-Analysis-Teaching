{
  "nbformat": 4,
  "nbformat_minor": 0,
  "metadata": {
    "celltoolbar": "Slideshow",
    "hide_input": false,
    "kernelspec": {
      "display_name": "Python 3",
      "language": "python",
      "name": "python3"
    },
    "language_info": {
      "codemirror_mode": {
        "name": "ipython",
        "version": 3
      },
      "file_extension": ".py",
      "mimetype": "text/x-python",
      "name": "python",
      "nbconvert_exporter": "python",
      "pygments_lexer": "ipython3",
      "version": "3.8.8"
    },
    "toc": {
      "base_numbering": 1,
      "nav_menu": {},
      "number_sections": true,
      "sideBar": true,
      "skip_h1_title": false,
      "title_cell": "Table of Contents",
      "title_sidebar": "Contents",
      "toc_cell": true,
      "toc_position": {
        "height": "492.233px",
        "left": "315px",
        "top": "110.283px",
        "width": "165px"
      },
      "toc_section_display": true,
      "toc_window_display": true
    },
    "varInspector": {
      "cols": {
        "lenName": 16,
        "lenType": 16,
        "lenVar": 40
      },
      "kernels_config": {
        "python": {
          "delete_cmd_postfix": "",
          "delete_cmd_prefix": "del ",
          "library": "var_list.py",
          "varRefreshCmd": "print(var_dic_list())"
        },
        "r": {
          "delete_cmd_postfix": ") ",
          "delete_cmd_prefix": "rm(",
          "library": "var_list.r",
          "varRefreshCmd": "cat(var_dic_list()) "
        }
      },
      "types_to_exclude": [
        "module",
        "function",
        "builtin_function_or_method",
        "instance",
        "_Feature"
      ],
      "window_display": false
    },
    "colab": {
      "name": " Topic_2_Python_review.ipynb",
      "provenance": [],
      "include_colab_link": true
    }
  },
  "cells": [
    {
      "cell_type": "markdown",
      "metadata": {
        "id": "view-in-github",
        "colab_type": "text"
      },
      "source": [
        "<a href=\"https://colab.research.google.com/github/PeterMamdouh678/Data-Analysis-Teaching/blob/main/Topic_2_Python_review.ipynb\" target=\"_parent\"><img src=\"https://colab.research.google.com/assets/colab-badge.svg\" alt=\"Open In Colab\"/></a>"
      ]
    },
    {
      "cell_type": "markdown",
      "metadata": {
        "toc": true,
        "id": "xxlW0DPipa6x"
      },
      "source": [
        "<h1>Table of Contents<span class=\"tocSkip\"></span></h1>\n",
        "<div class=\"toc\"><ul class=\"toc-item\"><li><span><a href=\"#Python\" data-toc-modified-id=\"Python-1\"><span class=\"toc-item-num\">1&nbsp;&nbsp;</span>Python</a></span><ul class=\"toc-item\"><li><span><a href=\"#List-Comprehensions\" data-toc-modified-id=\"List-Comprehensions-1.1\"><span class=\"toc-item-num\">1.1&nbsp;&nbsp;</span>List Comprehensions</a></span></li><li><span><a href=\"#Enumerate\" data-toc-modified-id=\"Enumerate-1.2\"><span class=\"toc-item-num\">1.2&nbsp;&nbsp;</span>Enumerate</a></span></li><li><span><a href=\"#Zip\" data-toc-modified-id=\"Zip-1.3\"><span class=\"toc-item-num\">1.3&nbsp;&nbsp;</span>Zip</a></span></li><li><span><a href=\"#Dictionaries\" data-toc-modified-id=\"Dictionaries-1.4\"><span class=\"toc-item-num\">1.4&nbsp;&nbsp;</span>Dictionaries</a></span></li><li><span><a href=\"#String-Methods\" data-toc-modified-id=\"String-Methods-1.5\"><span class=\"toc-item-num\">1.5&nbsp;&nbsp;</span>String Methods</a></span></li></ul></li><li><span><a href=\"#Lambda-&amp;-Map\" data-toc-modified-id=\"Lambda-&amp;-Map-2\"><span class=\"toc-item-num\">2&nbsp;&nbsp;</span>Lambda &amp; Map</a></span></li><li><span><a href=\"#Numpy-Library\" data-toc-modified-id=\"Numpy-Library-3\"><span class=\"toc-item-num\">3&nbsp;&nbsp;</span>Numpy Library</a></span><ul class=\"toc-item\"><li><span><a href=\"#Creating-Numpy-Arrays\" data-toc-modified-id=\"Creating-Numpy-Arrays-3.1\"><span class=\"toc-item-num\">3.1&nbsp;&nbsp;</span>Creating Numpy Arrays</a></span></li><li><span><a href=\"#Numpy-Array-Attributes\" data-toc-modified-id=\"Numpy-Array-Attributes-3.2\"><span class=\"toc-item-num\">3.2&nbsp;&nbsp;</span>Numpy Array Attributes</a></span></li><li><span><a href=\"#Indexing\" data-toc-modified-id=\"Indexing-3.3\"><span class=\"toc-item-num\">3.3&nbsp;&nbsp;</span>Indexing</a></span></li><li><span><a href=\"#Slicing\" data-toc-modified-id=\"Slicing-3.4\"><span class=\"toc-item-num\">3.4&nbsp;&nbsp;</span>Slicing</a></span></li><li><span><a href=\"#Sorting\" data-toc-modified-id=\"Sorting-3.5\"><span class=\"toc-item-num\">3.5&nbsp;&nbsp;</span>Sorting</a></span></li><li><span><a href=\"#Copy-of-Array\" data-toc-modified-id=\"Copy-of-Array-3.6\"><span class=\"toc-item-num\">3.6&nbsp;&nbsp;</span>Copy of Array</a></span></li><li><span><a href=\"#Reshaping\" data-toc-modified-id=\"Reshaping-3.7\"><span class=\"toc-item-num\">3.7&nbsp;&nbsp;</span>Reshaping</a></span></li><li><span><a href=\"#Concatenate/Split\" data-toc-modified-id=\"Concatenate/Split-3.8\"><span class=\"toc-item-num\">3.8&nbsp;&nbsp;</span>Concatenate/Split</a></span></li><li><span><a href=\"#Vectorized-Operations\" data-toc-modified-id=\"Vectorized-Operations-3.9\"><span class=\"toc-item-num\">3.9&nbsp;&nbsp;</span>Vectorized Operations</a></span></li><li><span><a href=\"#Ufuncs\" data-toc-modified-id=\"Ufuncs-3.10\"><span class=\"toc-item-num\">3.10&nbsp;&nbsp;</span>Ufuncs</a></span></li><li><span><a href=\"#Broadcasting\" data-toc-modified-id=\"Broadcasting-3.11\"><span class=\"toc-item-num\">3.11&nbsp;&nbsp;</span>Broadcasting</a></span></li><li><span><a href=\"#Masking\" data-toc-modified-id=\"Masking-3.12\"><span class=\"toc-item-num\">3.12&nbsp;&nbsp;</span>Masking</a></span></li></ul></li><li><span><a href=\"#References\" data-toc-modified-id=\"References-4\"><span class=\"toc-item-num\">4&nbsp;&nbsp;</span>References</a></span><ul class=\"toc-item\"><li><span><a href=\"#Online:\" data-toc-modified-id=\"Online:-4.1\"><span class=\"toc-item-num\">4.1&nbsp;&nbsp;</span>Online:</a></span></li></ul></li></ul></div>"
      ]
    },
    {
      "cell_type": "markdown",
      "metadata": {
        "id": "asffaibopa60"
      },
      "source": [
        "# Python \n",
        "> 📌 A review on Python for ISE 291."
      ]
    },
    {
      "cell_type": "markdown",
      "metadata": {
        "id": "uqSyq-nBpa63"
      },
      "source": [
        "Python reference:\n",
        "1. Any method or attribute of any python object can be read by using **help()** method.\n",
        "2. One can also refer to online documentations, like:\n",
        "https://docs.python.org/3/"
      ]
    },
    {
      "cell_type": "markdown",
      "metadata": {
        "id": "PR5t5Fynpa65"
      },
      "source": [
        "## List Comprehensions\n",
        "\n",
        "It is an elegant way to create the lists in Python. To see how useful the list comprehensions is, consider the following example:\n",
        "\n",
        "1. Create a list containing numbers form 1,...,5.\n",
        "2. Create another list of numbers containing square of numbers form 1,...,5.\n",
        "3. Repeat the above two tasks for numbers 1,...,50.\n",
        "4. Create a list, say eSquare, which has only the squares of even numbers form 1,...,50. Create a new list, say PV, which has '+' for even numbers and '-' for odd numbers for numbers from 1,...,50.\n",
        "5. Find the length of eSquare.\n",
        "6. Find the position of 196 in eSquare.\n",
        "7. Check if number 576 is inside eSquare.\n",
        "8. Create two new variable, containing the max and min numbers inside eSquare.\n",
        "9. Swap the values of the above two variables.\n",
        "10. Remove 196 from eSquare."
      ]
    },
    {
      "cell_type": "code",
      "metadata": {
        "id": "ab3Ij35ipa69"
      },
      "source": [
        "# 1. Create a list containing numbers form 1,...,5.\n",
        "l=[1,2,3,'b',5]\n"
      ],
      "execution_count": null,
      "outputs": []
    },
    {
      "cell_type": "code",
      "metadata": {
        "id": "CIfcbx7Epa7C"
      },
      "source": [
        "# 2. Create another list of numbers containing square of numbers form 1,...,5.\n",
        "l=[1,4,9,16,25]"
      ],
      "execution_count": null,
      "outputs": []
    },
    {
      "cell_type": "code",
      "metadata": {
        "colab": {
          "base_uri": "https://localhost:8080/"
        },
        "id": "eYDYdIlrpa7G",
        "outputId": "bcdc52b4-2cc9-4275-e8be-a48ac6ffb7ef"
      },
      "source": [
        "# 3. Repeat the above two tasks for numbers 1,...,50.\n",
        "numbers=list(range(1,51))\n",
        "print(numbers)\n",
        "\n",
        "# Lab = list(range(1,1000,5))\n",
        "# print(Lab)\n",
        "\n",
        "Square=[x**2 for x in numbers]\n",
        "print(Square)"
      ],
      "execution_count": null,
      "outputs": [
        {
          "output_type": "stream",
          "name": "stdout",
          "text": [
            "[1, 2, 3, 4, 5, 6, 7, 8, 9, 10, 11, 12, 13, 14, 15, 16, 17, 18, 19, 20, 21, 22, 23, 24, 25, 26, 27, 28, 29, 30, 31, 32, 33, 34, 35, 36, 37, 38, 39, 40, 41, 42, 43, 44, 45, 46, 47, 48, 49, 50]\n",
            "[1, 4, 9, 16, 25, 36, 49, 64, 81, 100, 121, 144, 169, 196, 225, 256, 289, 324, 361, 400, 441, 484, 529, 576, 625, 676, 729, 784, 841, 900, 961, 1024, 1089, 1156, 1225, 1296, 1369, 1444, 1521, 1600, 1681, 1764, 1849, 1936, 2025, 2116, 2209, 2304, 2401, 2500]\n"
          ]
        }
      ]
    },
    {
      "cell_type": "code",
      "metadata": {
        "colab": {
          "base_uri": "https://localhost:8080/"
        },
        "id": "UdooC9oqpa7J",
        "outputId": "f64850a0-f2a3-4192-83ac-b2fb6609d3ad"
      },
      "source": [
        "# 4. Create a list, say eSquare, which has only the squares of even numbers form 1,...,50.\n",
        "eSquare=[x**2 for x in numbers if x%2==0]\n",
        "print(eSquare)\n",
        "\n",
        "\n",
        "# Create a new list, say PV, which has '+' for even numbers and '-' for odd numbers for numbers from 1,...,50.\n",
        "PV=['+' if x%2==0 else '-' for x in numbers]\n",
        "print(PV)\n"
      ],
      "execution_count": null,
      "outputs": [
        {
          "output_type": "stream",
          "name": "stdout",
          "text": [
            "[4, 16, 36, 64, 100, 144, 196, 256, 324, 400, 484, 576, 676, 784, 900, 1024, 1156, 1296, 1444, 1600, 1764, 1936, 2116, 2304, 2500]\n",
            "['-', '+', '-', '+', '-', '+', '-', '+', '-', '+', '-', '+', '-', '+', '-', '+', '-', '+', '-', '+', '-', '+', '-', '+', '-', '+', '-', '+', '-', '+', '-', '+', '-', '+', '-', '+', '-', '+', '-', '+', '-', '+', '-', '+', '-', '+', '-', '+', '-', '+']\n"
          ]
        }
      ]
    },
    {
      "cell_type": "code",
      "metadata": {
        "colab": {
          "base_uri": "https://localhost:8080/"
        },
        "id": "paS8eHkjpa7L",
        "outputId": "ccd610b7-215c-4efb-ae78-5af3839e1d53"
      },
      "source": [
        "# 5. Find the length of eSquare.\n",
        "print(len(eSquare))\n"
      ],
      "execution_count": null,
      "outputs": [
        {
          "output_type": "stream",
          "name": "stdout",
          "text": [
            "25\n"
          ]
        }
      ]
    },
    {
      "cell_type": "code",
      "metadata": {
        "id": "K5a4k8Zqpa7N",
        "colab": {
          "base_uri": "https://localhost:8080/"
        },
        "outputId": "d3fd46c9-dcbe-4800-a8d5-32f162f01237"
      },
      "source": [
        "# 6. Find the position of 196 in eSquare.\n",
        "print(eSquare.index(196))\n"
      ],
      "execution_count": null,
      "outputs": [
        {
          "output_type": "stream",
          "name": "stdout",
          "text": [
            "6\n"
          ]
        }
      ]
    },
    {
      "cell_type": "code",
      "metadata": {
        "colab": {
          "base_uri": "https://localhost:8080/"
        },
        "id": "UInTNFQfpa7P",
        "outputId": "0b647b2a-3010-415e-e8c0-1e173b92cc79"
      },
      "source": [
        "# 7. Check if number 576 is inside eSquare.\n",
        "print(576 in eSquare)\n"
      ],
      "execution_count": null,
      "outputs": [
        {
          "output_type": "stream",
          "name": "stdout",
          "text": [
            "True\n"
          ]
        }
      ]
    },
    {
      "cell_type": "code",
      "metadata": {
        "colab": {
          "base_uri": "https://localhost:8080/"
        },
        "id": "7JRJMrRdpa7Q",
        "outputId": "a8b3e85d-c565-48f5-c0e1-9b237024b573"
      },
      "source": [
        "# 8. Create two new variable, containing the max and min numbers inside eSquare.\n",
        "maxValue, minValue = max(eSquare), min(eSquare)\n",
        "\n",
        "print(maxValue, minValue )\n"
      ],
      "execution_count": null,
      "outputs": [
        {
          "output_type": "stream",
          "name": "stdout",
          "text": [
            "2500 4\n"
          ]
        }
      ]
    },
    {
      "cell_type": "code",
      "metadata": {
        "colab": {
          "base_uri": "https://localhost:8080/"
        },
        "id": "BN-NH9KJpa7S",
        "outputId": "afa3fea9-adaa-4e55-ebf0-65caab17fcfc"
      },
      "source": [
        "# 9. Swap the values of the above two variables.\n",
        "maxValue, minValue = minValue, maxValue\n",
        "\n",
        "print(maxValue, minValue )"
      ],
      "execution_count": null,
      "outputs": [
        {
          "output_type": "stream",
          "name": "stdout",
          "text": [
            "4 2500\n"
          ]
        }
      ]
    },
    {
      "cell_type": "code",
      "metadata": {
        "code_folding": [],
        "colab": {
          "base_uri": "https://localhost:8080/",
          "height": 128
        },
        "id": "ONDqWjSKpa7T",
        "outputId": "c635ae93-d140-4595-df93-880bfad4b782"
      },
      "source": [
        "# 10. Remove 196 from eSquare. \n",
        "# eSquare.remove(196)\n",
        "# eSquare.pop(eSquare.index(196))\n",
        "# print(eSquare)\n",
        "\n",
        "eSquare.\n",
        "print(eSquare)"
      ],
      "execution_count": null,
      "outputs": [
        {
          "output_type": "error",
          "ename": "SyntaxError",
          "evalue": "ignored",
          "traceback": [
            "\u001b[0;36m  File \u001b[0;32m\"<ipython-input-10-fdfbad839f9e>\"\u001b[0;36m, line \u001b[0;32m6\u001b[0m\n\u001b[0;31m    eSquare.\u001b[0m\n\u001b[0m            ^\u001b[0m\n\u001b[0;31mSyntaxError\u001b[0m\u001b[0;31m:\u001b[0m invalid syntax\n"
          ]
        }
      ]
    },
    {
      "cell_type": "markdown",
      "metadata": {
        "id": "9JZWYnf6pa7U"
      },
      "source": [
        "## Enumerate \n",
        "\n",
        "It is useful, when you have a list over which you want to iterate, as well as keep track of index. To see how it works, consider the following:\n",
        "\n",
        "1. Consider the following list:  \n",
        "    ['Apple', 'Banana', 'Orange', 'Watermelon', 'Plum', 'Grapes', 'Kiwi', 'Strawberry', 'Pear']\n",
        "2. Sort the above list in ascending alphabetical order.\n",
        "3. To the sorted list, for each element, prefix the value by its position. \n",
        "     - For example, the final list should look like:  \n",
        "     - ['1.Apple',..., '9.Watermelon']"
      ]
    },
    {
      "cell_type": "code",
      "metadata": {
        "id": "5ckgxr0rpa7V"
      },
      "source": [
        "# 1. Consider the following list:  \n",
        "  fruits = ['Apple', 'Banana', 'Orange', 'Watermelon', 'Plum', 'Grapes', 'Kiwi', 'Strawberry', 'Pear']"
      ],
      "execution_count": null,
      "outputs": []
    },
    {
      "cell_type": "code",
      "metadata": {
        "id": "bLVPldhwpa7W",
        "outputId": "0733a3bc-7e85-4a0f-dd74-ed7c183970e9"
      },
      "source": [
        "# 2. Sort the above list in ascending alphabetical order.\n",
        "fruits.sort()\n",
        "print(\"sorted: \", fruits)\n",
        "\n",
        "# or \n",
        "fruits2 = sorted(fruits)\n",
        "print(\"sorted: \", fruits2)\n"
      ],
      "execution_count": null,
      "outputs": [
        {
          "name": "stdout",
          "output_type": "stream",
          "text": [
            "sorted:  ['Apple', 'Banana', 'Grapes', 'Kiwi', 'Orange', 'Pear', 'Plum', 'Strawberry', 'Watermelon']\n",
            "sorted:  ['Apple', 'Banana', 'Grapes', 'Kiwi', 'Orange', 'Pear', 'Plum', 'Strawberry', 'Watermelon']\n"
          ]
        }
      ]
    },
    {
      "cell_type": "code",
      "metadata": {
        "scrolled": true,
        "id": "-qh6Zx8hpa7Y",
        "outputId": "58ac8d85-e1d8-4ccf-e847-9b454ec9c04f"
      },
      "source": [
        "# 3. To the sorted list, for each element, prefix the value by its position. \n",
        "\n",
        "listFruits = [str(i+1)+'.'+v for i,v in enumerate(fruits)]\n",
        "print(listFruits)\n",
        "\n",
        "\n",
        "# i=1\n",
        "# fruits2=[]\n",
        "# for x in fruits:\n",
        "#     fruits2.append(str(i)+'.'+x)\n",
        "#     i+=1\n",
        "# print(fruits2)\n",
        "\n",
        "\n",
        "# fruits2=[]\n",
        "# for x in fruits:\n",
        "#     fruits2.append(str(fruits.index(x)+1)+'.'+x)\n",
        "# print(fruits2)\n",
        "    \n",
        "\n",
        "# fruits2=[]  \n",
        "# for i in range(len(fruits)):\n",
        "#     fruits2.append(str(i)+'.'+fruits[i])\n",
        "\n",
        "# fruits2=[]  \n",
        "# for i,x in enumerate(fruits):\n",
        "#     fruits2.append(str(i+1)+'.'+x)\n",
        "# print(fruits2)"
      ],
      "execution_count": null,
      "outputs": [
        {
          "name": "stdout",
          "output_type": "stream",
          "text": [
            "['1.Apple', '2.Banana', '3.Grapes', '4.Kiwi', '5.Orange', '6.Pear', '7.Plum', '8.Strawberry', '9.Watermelon']\n"
          ]
        }
      ]
    },
    {
      "cell_type": "markdown",
      "metadata": {
        "id": "QcFCTcD9pa7Z"
      },
      "source": [
        "## Zip\n",
        "\n",
        "It is useful, when you have to join two lists. It creates a zip object, from which a list of tuple can be obtained. Such lists are very handy in looping over two or more lists simultaneously.\n",
        "\n",
        "1. Consider the following list:  \n",
        "    [['Apple', 'Banana', 'Orange'], ['Watermelon', 'Plum', 'Grapes', 'Kiwi'], ['Strawberry', 'Pear', 'Mango']]\n",
        "2. Create a new list containing all the 'fruits'.\n",
        "3. Create a new list, say zipZap, containing tuple of fruits name followed by length of the name.\n",
        "    - For example, the final list should look like: \n",
        "    - [('Apple', 5), ..., ('Watermelon', 10)]\n",
        "4. Iterate over zipZap and print all the elements.\n",
        "5. Iterate over zipZap and print the index and all the corresponding elements."
      ]
    },
    {
      "cell_type": "code",
      "metadata": {
        "id": "c34qUoAtpa7a",
        "outputId": "4dd8c081-7fd2-43f3-dfa9-4be3a4bd3217"
      },
      "source": [
        "# 1. Consider the following list:  \n",
        "#     [['Apple', 'Banana', 'Orange'], ['Watermelon', 'Plum', 'Grapes', 'Kiwi'], ['Strawberry', 'Pear', 'Mango']]\n",
        "# 2. Create a new list containing all the 'fruits'.\n",
        "\n",
        "fruits = [['Apple', 'Banana', 'Orange'], ['Watermelon', 'Plum', 'Grapes', 'Kiwi'], ['Strawberry', 'Pear', 'Mango']]\n",
        "\n",
        "allFruits = [y for innerList in fruits for y in innerList]\n",
        "print(allFruits)\n",
        "\n",
        "# ## or the following style\n",
        "# allFruits = []\n",
        "# for innerList in fruits:\n",
        "#     for y in innerList:\n",
        "#         allFruits.append(y)\n",
        "        \n",
        "# print(allFruits)"
      ],
      "execution_count": null,
      "outputs": [
        {
          "name": "stdout",
          "output_type": "stream",
          "text": [
            "['Apple', 'Banana', 'Orange', 'Watermelon', 'Plum', 'Grapes', 'Kiwi', 'Strawberry', 'Pear', 'Mango']\n"
          ]
        }
      ]
    },
    {
      "cell_type": "code",
      "metadata": {
        "id": "sPPe2F6Ypa7b",
        "outputId": "6ea6883a-7714-4742-b885-5a0366787248"
      },
      "source": [
        "lenFruits = [len(v) for v in allFruits]\n",
        "print(lenFruits)"
      ],
      "execution_count": null,
      "outputs": [
        {
          "name": "stdout",
          "output_type": "stream",
          "text": [
            "[5, 6, 6, 10, 4, 6, 4, 10, 4, 5]\n"
          ]
        }
      ]
    },
    {
      "cell_type": "code",
      "metadata": {
        "id": "TTAlqoCkpa7c",
        "outputId": "e0eddd0a-e9cc-4be4-99e7-9e0fc84197ea"
      },
      "source": [
        "# 3. Create a new list, say zipZap, containing tuple of fruits name followed by length of the name.\n",
        "\n",
        "zipZap = list(zip(allFruits,lenFruits))\n",
        "print(zipZap)"
      ],
      "execution_count": null,
      "outputs": [
        {
          "name": "stdout",
          "output_type": "stream",
          "text": [
            "[('Apple', 5), ('Banana', 6), ('Orange', 6), ('Watermelon', 10), ('Plum', 4), ('Grapes', 6), ('Kiwi', 4), ('Strawberry', 10), ('Pear', 4), ('Mango', 5)]\n"
          ]
        }
      ]
    },
    {
      "cell_type": "code",
      "metadata": {
        "id": "NbvGgoCYpa7d",
        "outputId": "a11488a6-d176-4e44-cc09-0dd65742eae9"
      },
      "source": [
        "# 4. Iterate over zipZap and print all the elements.\n",
        "\n",
        "for k in zipZap:\n",
        "    print(k[0],k[1])\n",
        "\n",
        "## Another unpacking approach that gives similar results\n",
        "# for k0,k1 in zipZap:\n",
        "#     print(k0,k1)"
      ],
      "execution_count": null,
      "outputs": [
        {
          "name": "stdout",
          "output_type": "stream",
          "text": [
            "Apple 5\n",
            "Banana 6\n",
            "Orange 6\n",
            "Watermelon 10\n",
            "Plum 4\n",
            "Grapes 6\n",
            "Kiwi 4\n",
            "Strawberry 10\n",
            "Pear 4\n",
            "Mango 5\n"
          ]
        }
      ]
    },
    {
      "cell_type": "code",
      "metadata": {
        "id": "ryrI6RZSpa7e",
        "outputId": "25764419-6cdd-4776-ada4-a354c772708b"
      },
      "source": [
        "# 5. Iterate over zipZap and print the index and all the corresponding elements.\n",
        "\n",
        "for i,k in enumerate(zipZap):\n",
        "    print(i,k[0],k[1])\n",
        "        \n",
        "## Another unpacking approach that gives similar results\n",
        "# for i,(k0,k1) in enumerate(zipZap):\n",
        "#     print(i,k0,k1)"
      ],
      "execution_count": null,
      "outputs": [
        {
          "name": "stdout",
          "output_type": "stream",
          "text": [
            "0 Apple 5\n",
            "1 Banana 6\n",
            "2 Orange 6\n",
            "3 Watermelon 10\n",
            "4 Plum 4\n",
            "5 Grapes 6\n",
            "6 Kiwi 4\n",
            "7 Strawberry 10\n",
            "8 Pear 4\n",
            "9 Mango 5\n"
          ]
        }
      ]
    },
    {
      "cell_type": "markdown",
      "metadata": {
        "id": "HSo8Aip6pa7e"
      },
      "source": [
        "## Dictionaries\n",
        "\n",
        "Dictionaries are used to store data values in key:value pairs. For example, consider the following lists:\n",
        "- List of fruits:  \n",
        "['Apple', 'Banana', 'Orange', 'Watermelon', 'Plum', 'Grapes', 'Kiwi', 'Strawberry', 'Pear', 'Mango']\n",
        "- List of corresponding prices per KG:  \n",
        "[47, 27, 35, 13, 28, 10, 30, 56, 15, 25]\n",
        "\n",
        "Do the following:\n",
        "1. Create a dictionary, say book1, which has fruits as keys, and prices as values.\n",
        "2. Loop over all the key & value pairs of book1.\n",
        "3. Create a dictionary, say book2, which has fruits as values, and unique numbers as keys. \n",
        "4. Display book2 and ask the user to pick a number. Then display the price of the fruit using book1."
      ]
    },
    {
      "cell_type": "code",
      "metadata": {
        "id": "RY1UFxVwpa7e"
      },
      "source": [
        "# given lists\n",
        "fruits=['Apple', 'Banana', 'Orange', 'Watermelon', 'Plum', 'Grapes', 'Kiwi', 'Strawberry', 'Pear', 'Mango']\n",
        "prices=[47, 27, 35, 13, 28, 10, 30, 56, 15, 25]"
      ],
      "execution_count": null,
      "outputs": []
    },
    {
      "cell_type": "code",
      "metadata": {
        "id": "b-DqM9n1pa7f",
        "outputId": "309afddf-899d-4f6f-acdc-46d489912075"
      },
      "source": [
        "# 1. Create a dictionary, say book1, which has fruits as keys, and prices as values.\n",
        "\n",
        "book1 = dict(zip(fruits,prices))\n",
        "print(book1)"
      ],
      "execution_count": null,
      "outputs": [
        {
          "name": "stdout",
          "output_type": "stream",
          "text": [
            "{'Apple': 47, 'Banana': 27, 'Orange': 35, 'Watermelon': 13, 'Plum': 28, 'Grapes': 10, 'Kiwi': 30, 'Strawberry': 56, 'Pear': 15, 'Mango': 25}\n"
          ]
        }
      ]
    },
    {
      "cell_type": "code",
      "metadata": {
        "id": "P-rbX9tRpa7g",
        "outputId": "ce83ae88-e731-4c80-c445-c84afdb82dce"
      },
      "source": [
        "# 2. Loop over all the key & value pairs of book1.\n",
        "\n",
        "for k,v in book1.items():\n",
        "    print(f'The price of {k} is {v} SAR.')"
      ],
      "execution_count": null,
      "outputs": [
        {
          "name": "stdout",
          "output_type": "stream",
          "text": [
            "The price of Apple is 47 SAR.\n",
            "The price of Banana is 27 SAR.\n",
            "The price of Orange is 35 SAR.\n",
            "The price of Watermelon is 13 SAR.\n",
            "The price of Plum is 28 SAR.\n",
            "The price of Grapes is 10 SAR.\n",
            "The price of Kiwi is 30 SAR.\n",
            "The price of Strawberry is 56 SAR.\n",
            "The price of Pear is 15 SAR.\n",
            "The price of Mango is 25 SAR.\n"
          ]
        }
      ]
    },
    {
      "cell_type": "code",
      "metadata": {
        "id": "YWlankxKpa7h",
        "colab": {
          "base_uri": "https://localhost:8080/",
          "height": 221
        },
        "outputId": "95a794b9-65ad-4e98-847b-d63049186d95"
      },
      "source": [
        "# 3. Create a dictionary, say book2, which has fruits as values, and unique numbers as keys. \n",
        "\n",
        "book2 = dict(zip(list(range(len(fruits))),fruits))\n",
        "print(book2)"
      ],
      "execution_count": null,
      "outputs": [
        {
          "output_type": "error",
          "ename": "NameError",
          "evalue": "ignored",
          "traceback": [
            "\u001b[0;31m---------------------------------------------------------------------------\u001b[0m",
            "\u001b[0;31mNameError\u001b[0m                                 Traceback (most recent call last)",
            "\u001b[0;32m<ipython-input-13-c95be03bac3c>\u001b[0m in \u001b[0;36m<module>\u001b[0;34m()\u001b[0m\n\u001b[1;32m      1\u001b[0m \u001b[0;31m# 3. Create a dictionary, say book2, which has fruits as values, and unique numbers as keys.\u001b[0m\u001b[0;34m\u001b[0m\u001b[0;34m\u001b[0m\u001b[0;34m\u001b[0m\u001b[0m\n\u001b[1;32m      2\u001b[0m \u001b[0;34m\u001b[0m\u001b[0m\n\u001b[0;32m----> 3\u001b[0;31m \u001b[0mbook2\u001b[0m \u001b[0;34m=\u001b[0m \u001b[0mdict\u001b[0m\u001b[0;34m(\u001b[0m\u001b[0mzip\u001b[0m\u001b[0;34m(\u001b[0m\u001b[0mlist\u001b[0m\u001b[0;34m(\u001b[0m\u001b[0mrange\u001b[0m\u001b[0;34m(\u001b[0m\u001b[0mlen\u001b[0m\u001b[0;34m(\u001b[0m\u001b[0mfruits\u001b[0m\u001b[0;34m)\u001b[0m\u001b[0;34m)\u001b[0m\u001b[0;34m)\u001b[0m\u001b[0;34m,\u001b[0m\u001b[0mfruits\u001b[0m\u001b[0;34m)\u001b[0m\u001b[0;34m)\u001b[0m\u001b[0;34m\u001b[0m\u001b[0;34m\u001b[0m\u001b[0m\n\u001b[0m\u001b[1;32m      4\u001b[0m \u001b[0mprint\u001b[0m\u001b[0;34m(\u001b[0m\u001b[0mbook2\u001b[0m\u001b[0;34m)\u001b[0m\u001b[0;34m\u001b[0m\u001b[0;34m\u001b[0m\u001b[0m\n",
            "\u001b[0;31mNameError\u001b[0m: name 'fruits' is not defined"
          ]
        }
      ]
    },
    {
      "cell_type": "code",
      "metadata": {
        "id": "Ufh4YpmLpa7h",
        "colab": {
          "base_uri": "https://localhost:8080/",
          "height": 239
        },
        "outputId": "f2e0fa52-a703-4ef3-b2e7-4fa74c027afa"
      },
      "source": [
        "# 4. Display book2 and ask the user to pick a number. Then display the price of the fruit using book1.\n",
        "\n",
        "for k,v in book2.items():\n",
        "    print(f'{k}. {v}')\n",
        "    \n",
        "itemSelected = input('Enter the number corresponding to a fruit to know its price.')\n",
        "itemSelected  = int(itemSelected)\n",
        "\n",
        "# priceSelected = book1[book2[itemSelected]]  # compact and better approach\n",
        "\n",
        "fruitSelected = book2[itemSelected]\n",
        "priceSelected = book1[fruitSelected]\n",
        "\n",
        "width = len(f'*The price per KG of {fruitSelected} is {priceSelected}.*')\n",
        "\n",
        "print('\\n'*4)\n",
        "print('*'*width)\n",
        "print(f'{f\"*You have selected {fruitSelected}.\":<{width-1}}*')  #f strings can be nested\n",
        "print(f'*The price per KG of {fruitSelected} is {priceSelected}.*')\n",
        "print('*'*width)\n",
        "\n",
        "\n",
        "####\n",
        "# f'{string: <{width}}' is used for formatting (align, width) while printing strings\n",
        "#to align the string to the right use >, and to the left use <\n",
        "#example: f'{s:>5}' implies right align string with space of 5 chars"
      ],
      "execution_count": null,
      "outputs": [
        {
          "output_type": "error",
          "ename": "NameError",
          "evalue": "ignored",
          "traceback": [
            "\u001b[0;31m---------------------------------------------------------------------------\u001b[0m",
            "\u001b[0;31mNameError\u001b[0m                                 Traceback (most recent call last)",
            "\u001b[0;32m<ipython-input-12-c1b99d26a626>\u001b[0m in \u001b[0;36m<module>\u001b[0;34m()\u001b[0m\n\u001b[1;32m      1\u001b[0m \u001b[0;31m# 4. Display book2 and ask the user to pick a number. Then display the price of the fruit using book1.\u001b[0m\u001b[0;34m\u001b[0m\u001b[0;34m\u001b[0m\u001b[0;34m\u001b[0m\u001b[0m\n\u001b[1;32m      2\u001b[0m \u001b[0;34m\u001b[0m\u001b[0m\n\u001b[0;32m----> 3\u001b[0;31m \u001b[0;32mfor\u001b[0m \u001b[0mk\u001b[0m\u001b[0;34m,\u001b[0m\u001b[0mv\u001b[0m \u001b[0;32min\u001b[0m \u001b[0mbook2\u001b[0m\u001b[0;34m.\u001b[0m\u001b[0mitems\u001b[0m\u001b[0;34m(\u001b[0m\u001b[0;34m)\u001b[0m\u001b[0;34m:\u001b[0m\u001b[0;34m\u001b[0m\u001b[0;34m\u001b[0m\u001b[0m\n\u001b[0m\u001b[1;32m      4\u001b[0m     \u001b[0mprint\u001b[0m\u001b[0;34m(\u001b[0m\u001b[0;34mf'{k}. {v}'\u001b[0m\u001b[0;34m)\u001b[0m\u001b[0;34m\u001b[0m\u001b[0;34m\u001b[0m\u001b[0m\n\u001b[1;32m      5\u001b[0m \u001b[0;34m\u001b[0m\u001b[0m\n",
            "\u001b[0;31mNameError\u001b[0m: name 'book2' is not defined"
          ]
        }
      ]
    },
    {
      "cell_type": "markdown",
      "metadata": {
        "id": "xhP7h-HRpa7j"
      },
      "source": [
        "Things to remember about keys:\n",
        "- Duplicate keys are not allowed. That is, a given key can appear in a dictionary only once.\n",
        "- Dictionary keys can be of any type, but they must be immutable.\n",
        "- Re-assigning a new value to an existing key, will override the first/previous value."
      ]
    },
    {
      "cell_type": "markdown",
      "metadata": {
        "id": "G8beY7yfpa7k"
      },
      "source": [
        "*italicized text*## String Methods\n",
        "\n",
        "Out of the box, Python has inbuilt functions that are very handy in text processing. For example, consider the following text:\n",
        "\n",
        "*we are reviewing python programming topics in ise 291.\n",
        "it is the most popular language for data scientists.\n",
        "also, it is a good general purpose programming language.*\n",
        "\n",
        "Do the following:\n",
        "1. Breakdown the given text into list of sentences.\n",
        "2. Capitalize the first word in each sentence.\n",
        "3. Replace 'ise' with 'ISE\" everywhere.\n",
        "4. Join all the above sentences into a new text.\n",
        "5. Print the new text."
      ]
    },
    {
      "cell_type": "code",
      "metadata": {
        "id": "CaXaOwaKpa7k"
      },
      "source": [
        "text = \"\"\"we are reviewing python programming topics in ise 291.\n",
        "it is the most popular language for data scientists.\n",
        "also, it is a good general purpose programming language.\"\"\""
      ],
      "execution_count": null,
      "outputs": []
    },
    {
      "cell_type": "code",
      "metadata": {
        "id": "fWIcYvGBpa7l",
        "outputId": "37f3ed9c-4350-4528-c373-a0461293648c"
      },
      "source": [
        "sentences = text.split('.')\n",
        "sentences.pop(-1)   # to get rid to empty last element\n",
        "print(sentences)"
      ],
      "execution_count": null,
      "outputs": [
        {
          "name": "stdout",
          "output_type": "stream",
          "text": [
            "['we are reviewing python programming topics in ise 291', '\\nit is the most popular language for data scientists', '\\nalso, it is a good general purpose programming language']\n"
          ]
        }
      ]
    },
    {
      "cell_type": "code",
      "metadata": {
        "id": "FZnaIOySpa7m",
        "outputId": "e97ae6da-5122-4f2b-8a7b-d95952c60b46"
      },
      "source": [
        "sentences1=[s.strip().capitalize().replace('ise','ISE')+'.'  \n",
        "           for s in sentences]    \n",
        "print(sentences1)\n",
        "\n",
        "## other variations\n",
        "# sentences2=[]\n",
        "# for s in sentences:\n",
        "#     sentences2.append(s.strip().capitalize().replace('ise','ISE')+'.')\n",
        "# print(sentences2)\n",
        "\n",
        "\n",
        "## or \n",
        "# sentences3=[]\n",
        "# for s in sentences:\n",
        "#     temp=s.strip()\n",
        "#     temp=temp.capitalize()\n",
        "#     temp=temp.replace('ise','ISE')\n",
        "#     temp=temp+'.'\n",
        "#     sentences3.append(temp)\n",
        "# print(sentences3)"
      ],
      "execution_count": null,
      "outputs": [
        {
          "name": "stdout",
          "output_type": "stream",
          "text": [
            "['We are reviewing python programming topics in ISE 291.', 'It is the most popular language for data scientists.', 'Also, it is a good general purpose programming language.']\n"
          ]
        }
      ]
    },
    {
      "cell_type": "code",
      "metadata": {
        "id": "ds6C-HG0pa7n",
        "outputId": "ebf8b98b-8303-422a-d3ac-e6aa5309a691"
      },
      "source": [
        "newText=\"\\n\".join(sentences1)\n",
        "print(newText)"
      ],
      "execution_count": null,
      "outputs": [
        {
          "name": "stdout",
          "output_type": "stream",
          "text": [
            "We are reviewing python programming topics in ISE 291.\n",
            "It is the most popular language for data scientists.\n",
            "Also, it is a good general purpose programming language.\n"
          ]
        }
      ]
    },
    {
      "cell_type": "markdown",
      "metadata": {
        "id": "46IAkGzMpa7n"
      },
      "source": [
        "# Lambda & Map\n",
        "> 📌 Beyond basic python\n",
        "\n",
        "\n",
        "The map and lambda functions extends the ability of Python to perform complex operations using a compact & simple style. \n",
        "1. Python's **lambda()** function is a small **anonymous function**, which can take any number of arguments, but can only have one expression.\n",
        "2. Python's **map()** function apply one function to each element of an **iterable** like list, tuple in Python. \n",
        "\n",
        "\n",
        "Consider the following examples:"
      ]
    },
    {
      "cell_type": "code",
      "metadata": {
        "id": "3G_CdNoCpa7o",
        "outputId": "506b3883-dfd7-4668-90d2-4bec4bae2d53"
      },
      "source": [
        "# Lambda function with one argument\n",
        "print((lambda x : x**2)(2)) "
      ],
      "execution_count": null,
      "outputs": [
        {
          "name": "stdout",
          "output_type": "stream",
          "text": [
            "4\n"
          ]
        }
      ]
    },
    {
      "cell_type": "code",
      "metadata": {
        "id": "7sxehtUvpa7o",
        "outputId": "b3d79639-151f-4960-96d4-537864151d8a"
      },
      "source": [
        "# Lambda function with multiple argument\n",
        "print((lambda x, y, z : x + y * z)(5, 6, 2)) "
      ],
      "execution_count": null,
      "outputs": [
        {
          "name": "stdout",
          "output_type": "stream",
          "text": [
            "17\n"
          ]
        }
      ]
    },
    {
      "cell_type": "code",
      "metadata": {
        "id": "pGDA9hWLpa7o",
        "outputId": "e8072897-ec96-47ad-c86b-c4a7c1a96892"
      },
      "source": [
        "# Lambda function with conditional statement\n",
        "# check even or odd \n",
        "print((lambda x : f\"{x} is an even number.\" if x%2==0 else f\"{x} is an odd number.\")(7)) "
      ],
      "execution_count": null,
      "outputs": [
        {
          "name": "stdout",
          "output_type": "stream",
          "text": [
            "7 is an odd number.\n"
          ]
        }
      ]
    },
    {
      "cell_type": "code",
      "metadata": {
        "id": "CoYK2c7Apa7p",
        "outputId": "0cd204bb-f589-4c1e-edc3-6bcf71e5607f"
      },
      "source": [
        "# Map function \n",
        "def squareFunction(x):\n",
        "    return x**2\n",
        "\n",
        "numbers = [1, 2, 3, 4, 5]\n",
        "\n",
        "squares = list(map(squareFunction, numbers))\n",
        "\n",
        "print(squares)"
      ],
      "execution_count": null,
      "outputs": [
        {
          "name": "stdout",
          "output_type": "stream",
          "text": [
            "[1, 4, 9, 16, 25]\n"
          ]
        }
      ]
    },
    {
      "cell_type": "code",
      "metadata": {
        "id": "7z_7Kg3Apa7p",
        "outputId": "f79ab51d-6beb-4901-e1c3-3f7dda54ddc7"
      },
      "source": [
        "# Lambda & Map functions with single lists\n",
        "numbers = [1, 2, 3, 4, 5]\n",
        "\n",
        "squares = list(map((lambda x:x**2), numbers))\n",
        "\n",
        "print(squares)"
      ],
      "execution_count": null,
      "outputs": [
        {
          "name": "stdout",
          "output_type": "stream",
          "text": [
            "[1, 4, 9, 16, 25]\n"
          ]
        }
      ]
    },
    {
      "cell_type": "code",
      "metadata": {
        "id": "_HD7L6-upa7q",
        "outputId": "746ea0b2-87e0-468b-e53c-ba3696bffff2"
      },
      "source": [
        "# Lambda & Map functions with multiple lists\n",
        "\n",
        "list1 = [1, 2, 3, 4, 5]\n",
        "list2 = [5, 5, 3, 5, 5]\n",
        "\n",
        "listSub = list(map((lambda x,y:x-y), list1,list2))\n",
        "print(listSub)\n",
        "\n",
        "\n",
        "listSub = list(map((lambda x,y:x-y), list2,list1))\n",
        "print(listSub)"
      ],
      "execution_count": null,
      "outputs": [
        {
          "name": "stdout",
          "output_type": "stream",
          "text": [
            "[-4, -3, 0, -1, 0]\n",
            "[4, 3, 0, 1, 0]\n"
          ]
        }
      ]
    },
    {
      "cell_type": "code",
      "metadata": {
        "id": "IaFPOdNrpa7q",
        "outputId": "c1cc7d55-17db-4158-f72c-3e875c673716"
      },
      "source": [
        "# Lambda & Map functions with conditions\n",
        "numbers = list(range(11))\n",
        "\n",
        "squares1 = list(map((lambda x:x**2 if x%2==0 else None), numbers))\n",
        "print(squares1)\n",
        "\n",
        "\n",
        "squares2 = list(map((lambda x:x**2), [x for x in numbers if x%2==0]))\n",
        "print(squares2)\n"
      ],
      "execution_count": null,
      "outputs": [
        {
          "name": "stdout",
          "output_type": "stream",
          "text": [
            "[0, None, 4, None, 16, None, 36, None, 64, None, 100]\n",
            "[0, 4, 16, 36, 64, 100]\n"
          ]
        }
      ]
    },
    {
      "cell_type": "markdown",
      "metadata": {
        "id": "Xnnrg5vzpa7r"
      },
      "source": [
        "# Numpy Library\n",
        "> 📌 A must for scientific work"
      ]
    },
    {
      "cell_type": "code",
      "metadata": {
        "id": "VvJOj6mopa7r"
      },
      "source": [
        "import numpy as np  #to import the libary       "
      ],
      "execution_count": null,
      "outputs": []
    },
    {
      "cell_type": "code",
      "metadata": {
        "id": "D7jY_cdipa7r"
      },
      "source": [
        "# !pip instal numpy"
      ],
      "execution_count": null,
      "outputs": []
    },
    {
      "cell_type": "markdown",
      "metadata": {
        "id": "ttm67oNxpa7r"
      },
      "source": [
        "## Creating Numpy Arrays\n",
        "\n",
        "Do the following tasks:\n",
        "1. Create an integer array of 10 elements filled with all zeros.\n",
        "2. Create a 3x5 floating-point array filled with ones.\n",
        "3. Create a 3x5 array filled with pi values.\n",
        "4. Create a 3x3 array of uniformly distributed random values between 0 and 1.\n",
        "5. Create a 3x3 array of random integers in the interval [0, 10).\n",
        "6. Create a 3x3 identity matrix.\n",
        "7. Create an array of 10 elements uniformly dividing the interval [0,1], i.e, 0, 0.1,..., 0.9, 1."
      ]
    },
    {
      "cell_type": "code",
      "metadata": {
        "id": "VYKklRNApa7s",
        "outputId": "34dd4d38-17f1-4294-a701-eac4ba474540"
      },
      "source": [
        "#1. Create an integer array of 10 elements filled with all zeros.\n",
        "np.zeros(10, dtype=\"int\") \n",
        "\n",
        "\n",
        "## another way\n",
        "# list1 = [0 for x in range(10)]\n",
        "# print(list1)\n",
        "# print(type(list1))\n",
        "\n",
        "# print('-'*8)\n",
        "# array1 = np.array(list1)\n",
        "# print(array1)\n",
        "# print(type(array1))"
      ],
      "execution_count": null,
      "outputs": [
        {
          "data": {
            "text/plain": [
              "array([0, 0, 0, 0, 0, 0, 0, 0, 0, 0])"
            ]
          },
          "execution_count": 37,
          "metadata": {},
          "output_type": "execute_result"
        }
      ]
    },
    {
      "cell_type": "code",
      "metadata": {
        "id": "a_Wc6vACpa7s",
        "outputId": "8ee7f184-1f1d-4997-b035-23923d413bcf"
      },
      "source": [
        "#2. Create a 3x5 floating-point array filled with ones.\n",
        "np.ones((3,5), dtype=\"float\")\n",
        "\n",
        "# or the default\n",
        "# np.ones((3,5))"
      ],
      "execution_count": null,
      "outputs": [
        {
          "data": {
            "text/plain": [
              "array([[1., 1., 1., 1., 1.],\n",
              "       [1., 1., 1., 1., 1.],\n",
              "       [1., 1., 1., 1., 1.]])"
            ]
          },
          "execution_count": 38,
          "metadata": {},
          "output_type": "execute_result"
        }
      ]
    },
    {
      "cell_type": "code",
      "metadata": {
        "id": "qXeH01_vpa7s",
        "outputId": "1a5f322d-9bc9-43ee-afbf-840e0b00f120"
      },
      "source": [
        "#3. Create a 3x5 array filled with pi values.\n",
        "print(np.full((3,5), np.pi))\n",
        "\n",
        "## or the following \n",
        "# print(np.full((3,5), np.round(np.pi,3)))  # numpy functions are Universal Functions (ufuncs) more on this in Sec 3.10."
      ],
      "execution_count": null,
      "outputs": [
        {
          "name": "stdout",
          "output_type": "stream",
          "text": [
            "[[3.14159265 3.14159265 3.14159265 3.14159265 3.14159265]\n",
            " [3.14159265 3.14159265 3.14159265 3.14159265 3.14159265]\n",
            " [3.14159265 3.14159265 3.14159265 3.14159265 3.14159265]]\n"
          ]
        }
      ]
    },
    {
      "cell_type": "code",
      "metadata": {
        "id": "ErtVtCtDpa7t",
        "outputId": "c1cb2fbb-ed7e-454b-abe2-a41f169bbf8e"
      },
      "source": [
        "#4. Create a 3x3 array of uniformly distributed random values between 0 and 1.\n",
        "np.random.seed(0) # seed for reproducibility\n",
        "print(np.random.random((3,3)))\n",
        "\n",
        "# print(np.random.rand(3,3))\n",
        "\n",
        "# or the following with specific decimal places\n",
        "# np.random.seed(0) # seed for reproducibility\n",
        "# print(np.round(np.random.random((3,3)),2)) # "
      ],
      "execution_count": null,
      "outputs": [
        {
          "name": "stdout",
          "output_type": "stream",
          "text": [
            "[[0.5488135  0.71518937 0.60276338]\n",
            " [0.54488318 0.4236548  0.64589411]\n",
            " [0.43758721 0.891773   0.96366276]]\n"
          ]
        }
      ]
    },
    {
      "cell_type": "code",
      "metadata": {
        "id": "uuufzI1vpa7t",
        "outputId": "7e99a459-79f4-41c1-ea0a-23182b06ae14"
      },
      "source": [
        "#5. Create a 3x3 array of random integers in the interval [0, 10).\n",
        "np.random.randint(0,10,(3,3))"
      ],
      "execution_count": null,
      "outputs": [
        {
          "data": {
            "text/plain": [
              "array([[1, 6, 7],\n",
              "       [7, 8, 1],\n",
              "       [5, 9, 8]])"
            ]
          },
          "execution_count": 41,
          "metadata": {},
          "output_type": "execute_result"
        }
      ]
    },
    {
      "cell_type": "code",
      "metadata": {
        "scrolled": true,
        "id": "JAPQt57Jpa7u",
        "outputId": "3d5b9f16-1fb5-4b0f-d1ca-132fcf557647"
      },
      "source": [
        "#6. Create a 3x3 identity matrix.\n",
        "np.eye(3)   # default data type is float"
      ],
      "execution_count": null,
      "outputs": [
        {
          "data": {
            "text/plain": [
              "array([[1., 0., 0.],\n",
              "       [0., 1., 0.],\n",
              "       [0., 0., 1.]])"
            ]
          },
          "execution_count": 42,
          "metadata": {},
          "output_type": "execute_result"
        }
      ]
    },
    {
      "cell_type": "code",
      "metadata": {
        "id": "uGy0A8nNpa7u",
        "outputId": "55841aab-6d37-48a6-ee8a-961a9450e198"
      },
      "source": [
        "# 7. Create an array of 11 elements uniformly dividing the interval [0,1], i.e, 0. , 0.1,..., 0.9, 1.\n",
        "np.linspace(0,1,11)"
      ],
      "execution_count": null,
      "outputs": [
        {
          "data": {
            "text/plain": [
              "array([0. , 0.1, 0.2, 0.3, 0.4, 0.5, 0.6, 0.7, 0.8, 0.9, 1. ])"
            ]
          },
          "execution_count": 43,
          "metadata": {},
          "output_type": "execute_result"
        }
      ]
    },
    {
      "cell_type": "markdown",
      "metadata": {
        "id": "2IB-u6pPpa7u"
      },
      "source": [
        "## Numpy Array Attributes\n",
        "\n",
        "\n",
        "Numpy array have the following attributes:\n",
        "1. ndim (the number of dimensions), \n",
        "2. shape (the size of each dimension), and \n",
        "3. size (the total size of the array).\n",
        "\n",
        "\n",
        "For example, do the following:\n",
        "1. Create a random one-dimensional array (x1), and check all the above attributes.\n",
        "2. Create a random two-dimensional array (x2), and check all the above attributes. "
      ]
    },
    {
      "cell_type": "code",
      "metadata": {
        "id": "OR3T2wEMpa7v",
        "outputId": "27a1cd99-1e5a-460b-ad23-81191f702cfa"
      },
      "source": [
        "# 1. Create a random one-dimensional array (x1), and check all the above attributes\n",
        "np.random.seed(0) # seed for reproducibility\n",
        "x1 = np.random.randint(10,size=6) #it's same ((np.random.randint((0,10), size=6))) # One-dimensional array\n",
        "\n",
        "print(f\"x1 ndim: {x1.ndim}\")\n",
        "print(f\"x1 shape: {x1.shape}\")\n",
        "print(f\"x1 size: {x1.size}\") #totaly,6 elements"
      ],
      "execution_count": null,
      "outputs": [
        {
          "name": "stdout",
          "output_type": "stream",
          "text": [
            "x1 ndim: 1\n",
            "x1 shape: (6,)\n",
            "x1 size: 6\n"
          ]
        }
      ]
    },
    {
      "cell_type": "code",
      "metadata": {
        "id": "QsEnGVJBpa7v",
        "outputId": "5060efb5-82cb-48af-9086-2faa32efa898"
      },
      "source": [
        "# 2. Create a random two-dimensional array (x2), and check all the above attributes. \n",
        "np.random.seed(0) # seed for reproducibility\n",
        "x2 = np.random.randint(10, size=(3,4)) # Two-dimensional array\n",
        "\n",
        "print(f\"x2 ndim: {x2.ndim}\")\n",
        "print(f\"x2 shape: {x2.shape}\")\n",
        "print(f\"x2 size: {x2.size}\") #totaly,12 elements"
      ],
      "execution_count": null,
      "outputs": [
        {
          "name": "stdout",
          "output_type": "stream",
          "text": [
            "x2 ndim: 2\n",
            "x2 shape: (3, 4)\n",
            "x2 size: 12\n"
          ]
        }
      ]
    },
    {
      "cell_type": "markdown",
      "metadata": {
        "id": "1JjgxkaMpa7v"
      },
      "source": [
        "## Indexing\n",
        "\n",
        "Numpy array indexing for 1d array is same as Python's lists. However, Numpy nd-array indexing is slightly different from Python's nd-lists. For example:\n",
        "1. 2d-list elements are accessed as:[index1][index2]\n",
        "2. 2d-array elements are accessed as:[index1,index2]\n",
        "\n",
        "where index1 and index2 can be indices or slices. See the following examples:"
      ]
    },
    {
      "cell_type": "code",
      "metadata": {
        "id": "2NXAH8Wcpa7w",
        "outputId": "00ec4efc-23a0-4f5c-a46a-8115dd7d736a"
      },
      "source": [
        "np.random.seed(0) # seed for reproducibility\n",
        "x1 = np.random.randint(10, size=6) # One-dimensional array\n",
        "\n",
        "print(f'indices:{list(range(6))}')\n",
        "print(f'array  :{x1.tolist()}')   #.tolist() converts numpy array into python's list. The conversion is not permanant. \n",
        "\n",
        "print('-'*10);\n",
        "\n",
        "print(x1[0],x1[4],x1[-1],x1[-2])\n"
      ],
      "execution_count": null,
      "outputs": [
        {
          "name": "stdout",
          "output_type": "stream",
          "text": [
            "indices:[0, 1, 2, 3, 4, 5]\n",
            "array  :[5, 0, 3, 3, 7, 9]\n",
            "----------\n",
            "5 7 9 7\n"
          ]
        }
      ]
    },
    {
      "cell_type": "code",
      "metadata": {
        "id": "peS2_ijMpa7w",
        "outputId": "34edcd4d-8e83-4eb0-e380-c0ab5271ebe6"
      },
      "source": [
        "np.random.seed(0) # seed for reproducibility\n",
        "x2 = np.random.randint(10, size=(3,4)) # Two-dimensional array\n",
        "\n",
        "print(x2)\n",
        "\n",
        "print('-'*10);\n",
        "\n",
        "\n",
        "print(x2[2,1],x2[2,0],x2[2,-4],x2[-2,-3])"
      ],
      "execution_count": null,
      "outputs": [
        {
          "name": "stdout",
          "output_type": "stream",
          "text": [
            "[[5 0 3 3]\n",
            " [7 9 3 5]\n",
            " [2 4 7 6]]\n",
            "----------\n",
            "4 2 2 9\n"
          ]
        }
      ]
    },
    {
      "cell_type": "code",
      "metadata": {
        "id": "a6gFb1l2pa7x",
        "outputId": "c749953c-561a-4440-a566-4ee9d6d45f21"
      },
      "source": [
        "# Updating values\n",
        "x1[0] = 3.14159 # this will be truncated!\n",
        "print(x1)"
      ],
      "execution_count": null,
      "outputs": [
        {
          "name": "stdout",
          "output_type": "stream",
          "text": [
            "[3 0 3 3 7 9]\n"
          ]
        }
      ]
    },
    {
      "cell_type": "code",
      "metadata": {
        "id": "BH7iM-6vpa7x",
        "outputId": "9e6dea94-bc22-4044-d6e7-21d525d76710"
      },
      "source": [
        "# Updating values\n",
        "x2[0,0]=12\n",
        "print(x2)"
      ],
      "execution_count": null,
      "outputs": [
        {
          "name": "stdout",
          "output_type": "stream",
          "text": [
            "[[12  0  3  3]\n",
            " [ 7  9  3  5]\n",
            " [ 2  4  7  6]]\n"
          ]
        }
      ]
    },
    {
      "cell_type": "markdown",
      "metadata": {
        "id": "9kK7fE29pa7y"
      },
      "source": [
        "## Slicing\n",
        "\n",
        "Slicing refer to selecting/extracting a sub-array from a given array. As an example for 1d arrays, do the following tasks:\n",
        "1. Create a random 1d numpy array of size 10.\n",
        "2. Display the first five elements.\n",
        "3. Display elements from index 5 to end.\n",
        "4. Display elements from index 4 to 6.\n",
        "5. Display alternate elements from the first element.\n",
        "6. Display alternate elements starting from the second element.\n",
        "7. Display elements starting from fourth element from the end and ending at last but one element.\n",
        "8. Display all element in the reverse order of indices."
      ]
    },
    {
      "cell_type": "code",
      "metadata": {
        "id": "l4aSSnbbpa7y",
        "outputId": "b1840ac8-53a4-4bf5-c207-b86432020135"
      },
      "source": [
        "# 1. Create a random 1d numpy array of size 10.\n",
        "np.random.seed(0) # seed for reproducibility\n",
        "x1 = np.random.randint(10,size=10) # One-dimensional array\n",
        "print(f'indices:{list(range(10))}')\n",
        "print(f'array  :{x1.tolist()}')"
      ],
      "execution_count": null,
      "outputs": [
        {
          "name": "stdout",
          "output_type": "stream",
          "text": [
            "indices:[0, 1, 2, 3, 4, 5, 6, 7, 8, 9]\n",
            "array  :[5, 0, 3, 3, 7, 9, 3, 5, 2, 4]\n"
          ]
        }
      ]
    },
    {
      "cell_type": "code",
      "metadata": {
        "id": "jZhiX663pa7y",
        "outputId": "96b864d4-c3cf-4265-8e38-a5177dc02073"
      },
      "source": [
        "# 2. Display the first five elements.\n",
        "x1[:5] "
      ],
      "execution_count": null,
      "outputs": [
        {
          "data": {
            "text/plain": [
              "array([5, 0, 3, 3, 7])"
            ]
          },
          "execution_count": 51,
          "metadata": {},
          "output_type": "execute_result"
        }
      ]
    },
    {
      "cell_type": "code",
      "metadata": {
        "id": "j1JFsx0gpa7z",
        "outputId": "f4277d98-6752-433b-bdac-94a68f8edfdd"
      },
      "source": [
        "# 3. Display elements from index 5 to end.\n",
        "x1[5:] "
      ],
      "execution_count": null,
      "outputs": [
        {
          "data": {
            "text/plain": [
              "array([9, 3, 5, 2, 4])"
            ]
          },
          "execution_count": 52,
          "metadata": {},
          "output_type": "execute_result"
        }
      ]
    },
    {
      "cell_type": "code",
      "metadata": {
        "id": "Fa5vD-hZpa7z",
        "outputId": "59326bad-b031-44d0-ada1-1836acdc1f97"
      },
      "source": [
        "# 4. Display elements from index 4 to 6.\n",
        "x1[4:7]"
      ],
      "execution_count": null,
      "outputs": [
        {
          "data": {
            "text/plain": [
              "array([7, 9, 3])"
            ]
          },
          "execution_count": 53,
          "metadata": {},
          "output_type": "execute_result"
        }
      ]
    },
    {
      "cell_type": "code",
      "metadata": {
        "id": "VZ0M2h77pa70",
        "outputId": "e955f92e-a86a-4c41-c6a4-f5ab724c02b3"
      },
      "source": [
        "# 5. Display alternate elements starting from the first element.\n",
        "x1[::2] "
      ],
      "execution_count": null,
      "outputs": [
        {
          "data": {
            "text/plain": [
              "array([5, 3, 7, 3, 2])"
            ]
          },
          "execution_count": 54,
          "metadata": {},
          "output_type": "execute_result"
        }
      ]
    },
    {
      "cell_type": "code",
      "metadata": {
        "id": "0aC1x4E9pa70",
        "outputId": "c5fc0181-6a53-4e2d-ab32-51b472aee689"
      },
      "source": [
        "# 6. Display alternate elements starting from the second element.\n",
        "x1[1::2] "
      ],
      "execution_count": null,
      "outputs": [
        {
          "data": {
            "text/plain": [
              "array([0, 3, 9, 5, 4])"
            ]
          },
          "execution_count": 55,
          "metadata": {},
          "output_type": "execute_result"
        }
      ]
    },
    {
      "cell_type": "code",
      "metadata": {
        "id": "DTcV6fe4pa71",
        "outputId": "8e60414f-e3ab-40a8-850a-8f42d0aa9302"
      },
      "source": [
        "# 7. Display elements starting from fourth element from the end and ending at last but one element.\n",
        "x1[-4:-1]"
      ],
      "execution_count": null,
      "outputs": [
        {
          "data": {
            "text/plain": [
              "array([3, 5, 2])"
            ]
          },
          "execution_count": 56,
          "metadata": {},
          "output_type": "execute_result"
        }
      ]
    },
    {
      "cell_type": "code",
      "metadata": {
        "id": "s3qt86inpa71",
        "outputId": "44047f88-c39c-4a27-d095-33d562f19fd6"
      },
      "source": [
        "# 8. Display all element in the reverse order of indices.\n",
        "x1[::-1]"
      ],
      "execution_count": null,
      "outputs": [
        {
          "data": {
            "text/plain": [
              "array([4, 2, 5, 3, 9, 7, 3, 3, 0, 5])"
            ]
          },
          "execution_count": 57,
          "metadata": {},
          "output_type": "execute_result"
        }
      ]
    },
    {
      "cell_type": "markdown",
      "metadata": {
        "id": "56OsEgKhpa72"
      },
      "source": [
        " As an example for 2d arrays, do the following tasks:\n",
        "1. Create a random 2d numpy array of size 3x4.\n",
        "2. Display first two rows, first three columns\n",
        "3. Display all rows, and every other column\n",
        "4. Display all rows and columns in the reverse order\n",
        "5. Display first column \n",
        "6. Display first row \n",
        "7. Display third row elements in order of column 3, then column 1 then column 2\n",
        "8. Display second and following row elements in order of column 3, then column 1 then column 2\n"
      ]
    },
    {
      "cell_type": "code",
      "metadata": {
        "id": "8EHyJjRCpa72",
        "outputId": "33d92aca-31af-4740-d029-95b676bb11d4"
      },
      "source": [
        "# 1. Create a random 2d numpy array of size 3x4.\n",
        "np.random.seed(0) # seed for reproducibility\n",
        "x2 = np.random.randint(10, size=(3,4)) # Two-dimensional array\n",
        "print(x2)"
      ],
      "execution_count": null,
      "outputs": [
        {
          "name": "stdout",
          "output_type": "stream",
          "text": [
            "[[5 0 3 3]\n",
            " [7 9 3 5]\n",
            " [2 4 7 6]]\n"
          ]
        }
      ]
    },
    {
      "cell_type": "code",
      "metadata": {
        "id": "Hlmqw0Fkpa72",
        "outputId": "e0675bb3-3c2b-4e38-ce1d-74b860771276"
      },
      "source": [
        "# 2. Display first two rows, first three columns\n",
        "x2[:2, :3]"
      ],
      "execution_count": null,
      "outputs": [
        {
          "data": {
            "text/plain": [
              "array([[5, 0, 3],\n",
              "       [7, 9, 3]])"
            ]
          },
          "execution_count": 59,
          "metadata": {},
          "output_type": "execute_result"
        }
      ]
    },
    {
      "cell_type": "code",
      "metadata": {
        "id": "J98ZGiiBpa73",
        "outputId": "ab94201f-e920-4b3d-fea3-2e442306ba30"
      },
      "source": [
        "# 3. Display all rows, and every other column\n",
        "x2[:3,::2]"
      ],
      "execution_count": null,
      "outputs": [
        {
          "data": {
            "text/plain": [
              "array([[5, 3],\n",
              "       [7, 3],\n",
              "       [2, 7]])"
            ]
          },
          "execution_count": 60,
          "metadata": {},
          "output_type": "execute_result"
        }
      ]
    },
    {
      "cell_type": "code",
      "metadata": {
        "id": "6KiJGHaLpa73",
        "outputId": "9759fcc0-c756-4d0b-e8c0-b7db06828b3c"
      },
      "source": [
        "# 4. Display all rows and columns in the reverse order\n",
        "x2[::-1,::-1]"
      ],
      "execution_count": null,
      "outputs": [
        {
          "data": {
            "text/plain": [
              "array([[6, 7, 4, 2],\n",
              "       [5, 3, 9, 7],\n",
              "       [3, 3, 0, 5]])"
            ]
          },
          "execution_count": 61,
          "metadata": {},
          "output_type": "execute_result"
        }
      ]
    },
    {
      "cell_type": "code",
      "metadata": {
        "id": "UJgey6cppa73",
        "outputId": "1c20f84c-6cb7-48b1-c4c0-cc15c26a28b9"
      },
      "source": [
        "# 5. Display first column \n",
        "print(x2[:, 0]) "
      ],
      "execution_count": null,
      "outputs": [
        {
          "name": "stdout",
          "output_type": "stream",
          "text": [
            "[5 7 2]\n"
          ]
        }
      ]
    },
    {
      "cell_type": "code",
      "metadata": {
        "id": "LUnBaVWPpa74",
        "outputId": "e06d5814-f318-4d98-c9ee-b705c690eeff"
      },
      "source": [
        "# 6. Display first row \n",
        "print(x2[0,:]) \n",
        "\n",
        "# print(x2[0]) # equivalent to x2[0, :]"
      ],
      "execution_count": null,
      "outputs": [
        {
          "name": "stdout",
          "output_type": "stream",
          "text": [
            "[5 0 3 3]\n"
          ]
        }
      ]
    },
    {
      "cell_type": "code",
      "metadata": {
        "id": "G0tUTAy9pa74",
        "outputId": "4c46e4e2-4973-4471-bef7-275bcca72793"
      },
      "source": [
        "# 7. Display third row elements in order of column 3, then column 1 then column 2\n",
        "x2[2,[2,0,1]]"
      ],
      "execution_count": null,
      "outputs": [
        {
          "data": {
            "text/plain": [
              "array([7, 2, 4])"
            ]
          },
          "execution_count": 64,
          "metadata": {},
          "output_type": "execute_result"
        }
      ]
    },
    {
      "cell_type": "code",
      "metadata": {
        "id": "OAhiCt6Mpa74",
        "outputId": "606f6beb-6943-4060-e3dd-382c5ee7b8a6"
      },
      "source": [
        "# 8. Display second and following row elements in order of column 3, then column 1 then column 2\n",
        "x2[1:, [2, 0, 1]]"
      ],
      "execution_count": null,
      "outputs": [
        {
          "data": {
            "text/plain": [
              "array([[3, 7, 9],\n",
              "       [7, 2, 4]])"
            ]
          },
          "execution_count": 65,
          "metadata": {},
          "output_type": "execute_result"
        }
      ]
    },
    {
      "cell_type": "markdown",
      "metadata": {
        "id": "v0ayZOaWpa75"
      },
      "source": [
        "## Sorting\n",
        "Numpy *.sort()* method sorts an array in-place. The sorting is done row/column wise, and order/preference can be provided too. As an example, do the following:\n",
        "1. Create a 1d random array of size 6, and sort it. Print the corresponding original indices in the sorted array.\n",
        "2. Create a random 2d numpy array of size 3x4. Sort row wise.\n",
        "3. Create a random 2d numpy array of size 3x4. Sort column wise."
      ]
    },
    {
      "cell_type": "code",
      "metadata": {
        "id": "7JB3743Ipa75",
        "outputId": "0998cab0-df78-4046-da47-c710db892b04"
      },
      "source": [
        "# 1. Create a 1d random array of size 6, and sort it. Print the corresponding original indices in the sorted array.\n",
        "np.random.seed(0) # seed for reproducibility\n",
        "x1 = np.random.randint(10,size=6) # One-dimensional array\n",
        "\n",
        "print(f'original indices:{list(range(6))}')\n",
        "print(f'given    array  :{x1.tolist()}')\n",
        "print(f'sorted-array    :{np.sort(x1).tolist()}')\n",
        "print(f'sorted indices  :{np.argsort(x1).tolist()}')"
      ],
      "execution_count": null,
      "outputs": [
        {
          "name": "stdout",
          "output_type": "stream",
          "text": [
            "original indices:[0, 1, 2, 3, 4, 5]\n",
            "given    array  :[5, 0, 3, 3, 7, 9]\n",
            "sorted-array    :[0, 3, 3, 5, 7, 9]\n",
            "sorted indices  :[1, 2, 3, 0, 4, 5]\n"
          ]
        }
      ]
    },
    {
      "cell_type": "code",
      "metadata": {
        "id": "glSLIxgxpa75",
        "outputId": "c0d787d1-a804-4d83-c0f2-9fdbf75da3de"
      },
      "source": [
        "# 2. Create a random 2d numpy array of size 3x4. Sort row wise.\n",
        "np.random.seed(0) # seed for reproducibility\n",
        "x2 = np.random.randint(10, size=(3,4)) # Two-dimensional array\n",
        "print(x2)\n",
        "print('-'*10)\n",
        "x2.sort(axis=0)\n",
        "print(x2)"
      ],
      "execution_count": null,
      "outputs": [
        {
          "name": "stdout",
          "output_type": "stream",
          "text": [
            "[[5 0 3 3]\n",
            " [7 9 3 5]\n",
            " [2 4 7 6]]\n",
            "----------\n",
            "[[2 0 3 3]\n",
            " [5 4 3 5]\n",
            " [7 9 7 6]]\n"
          ]
        }
      ]
    },
    {
      "cell_type": "code",
      "metadata": {
        "id": "wKNuR7c3pa76",
        "outputId": "33d5ed52-0cb9-4742-db91-6c3249bfaac2"
      },
      "source": [
        "# 3. Create a random 2d numpy array of size 3x4. Sort column wise.\n",
        "np.random.seed(0) # seed for reproducibility\n",
        "x2 = np.random.randint(10, size=(3,4)) # Two-dimensional array\n",
        "print(x2)\n",
        "print('-'*10)\n",
        "x2.sort(axis=1)\n",
        "print(x2)"
      ],
      "execution_count": null,
      "outputs": [
        {
          "name": "stdout",
          "output_type": "stream",
          "text": [
            "[[5 0 3 3]\n",
            " [7 9 3 5]\n",
            " [2 4 7 6]]\n",
            "----------\n",
            "[[0 3 3 5]\n",
            " [3 5 7 9]\n",
            " [2 4 6 7]]\n"
          ]
        }
      ]
    },
    {
      "cell_type": "markdown",
      "metadata": {
        "id": "ZOgfzztlpa76"
      },
      "source": [
        "## Copy of Array\n",
        "\n",
        "Arrays are mutable too. Thus, the assignment \"=\" is by reference. Use \".copy()\" to copy the entire numpy array. For example, see the code in the following cells:"
      ]
    },
    {
      "cell_type": "code",
      "metadata": {
        "id": "qOcVsVNbpa76",
        "outputId": "422d8512-c4b7-45d0-94c8-e3638614b83b"
      },
      "source": [
        "np.random.seed(0) # seed for reproducibility\n",
        "x2 = np.random.randint(10, size=(2,4)) # Two-dimensional array\n",
        "print(f'x2 is:\\n{x2}')\n",
        "print('-'*10)\n",
        "\n",
        "\n",
        "x2_copy = x2  # new reference not actual copy\n",
        "print(f'x2_copy is:\\n{x2_copy}')\n",
        "print('-'*10)\n",
        "\n",
        "x2_copy[0,1:3]=[4,4]\n",
        "print(f'x2_copy modified is:\\n{x2_copy}')\n",
        "print('-'*10)\n",
        "\n",
        "\n",
        "print(f'x2 is:\\n{x2}')\n",
        "## x2_copy = x2[:,:]"
      ],
      "execution_count": null,
      "outputs": [
        {
          "name": "stdout",
          "output_type": "stream",
          "text": [
            "x2 is:\n",
            "[[5 0 3 3]\n",
            " [7 9 3 5]]\n",
            "----------\n",
            "x2_copy is:\n",
            "[[5 0 3 3]\n",
            " [7 9 3 5]]\n",
            "----------\n",
            "x2_copy modified is:\n",
            "[[5 4 4 3]\n",
            " [7 9 3 5]]\n",
            "----------\n",
            "x2 is:\n",
            "[[5 4 4 3]\n",
            " [7 9 3 5]]\n"
          ]
        }
      ]
    },
    {
      "cell_type": "code",
      "metadata": {
        "id": "HYuMxlpIpa77",
        "outputId": "7b274aaa-9220-483d-e0d8-d803e922c6aa"
      },
      "source": [
        "np.random.seed(0) # seed for reproducibility\n",
        "x2 = np.random.randint(10, size=(2,4)) # Two-dimensional array\n",
        "print(f'x2 is:\\n{x2}')\n",
        "print('-'*10)\n",
        "\n",
        "x2_copy = x2.copy()  # it will be true copy\n",
        "print(f'x2_copy is:\\n{x2_copy}')\n",
        "print('-'*10)\n",
        "\n",
        "\n",
        "x2_copy[0,1:3]=[4,4]\n",
        "print(f'x2_copy modified is:\\n{x2_copy}')\n",
        "print('-'*10)\n",
        "\n",
        "print(f'x2 is:\\n{x2}')\n"
      ],
      "execution_count": null,
      "outputs": [
        {
          "name": "stdout",
          "output_type": "stream",
          "text": [
            "x2 is:\n",
            "[[5 0 3 3]\n",
            " [7 9 3 5]]\n",
            "----------\n",
            "x2_copy is:\n",
            "[[5 0 3 3]\n",
            " [7 9 3 5]]\n",
            "----------\n",
            "x2_copy modified is:\n",
            "[[5 4 4 3]\n",
            " [7 9 3 5]]\n",
            "----------\n",
            "x2 is:\n",
            "[[5 0 3 3]\n",
            " [7 9 3 5]]\n"
          ]
        }
      ]
    },
    {
      "cell_type": "markdown",
      "metadata": {
        "id": "Ny8AjK09pa77"
      },
      "source": [
        "## Reshaping\n",
        "\n",
        "Numpy *.reshape* method gives a new shape to an existing array without changing its data. As an exmaple, do the following task:\n",
        "1. Create a 1d random array of size 10.\n",
        "2. Reshape the 1d array into size 5x2.\n",
        "3. Reshape the 1d array into size 2x5."
      ]
    },
    {
      "cell_type": "code",
      "metadata": {
        "id": "SMQRrJE1pa77",
        "outputId": "8c290d7f-d229-46a3-c6a8-90663b9e06f8"
      },
      "source": [
        "# 1. Create a 1d random array of size 10.\n",
        "np.random.seed(0) # seed for reproducibility\n",
        "x1 = np.random.randint(10,size=10) # One-dimensional array\n",
        "print(x1)"
      ],
      "execution_count": null,
      "outputs": [
        {
          "name": "stdout",
          "output_type": "stream",
          "text": [
            "[5 0 3 3 7 9 3 5 2 4]\n"
          ]
        }
      ]
    },
    {
      "cell_type": "code",
      "metadata": {
        "id": "1AxHPQD0pa77",
        "outputId": "010d1ec9-7156-4260-d5ff-0bfcef1499df"
      },
      "source": [
        "# 2. Reshape the 1d array into size 5x2.\n",
        "print(x1.reshape(5,2))"
      ],
      "execution_count": null,
      "outputs": [
        {
          "name": "stdout",
          "output_type": "stream",
          "text": [
            "[[5 0]\n",
            " [3 3]\n",
            " [7 9]\n",
            " [3 5]\n",
            " [2 4]]\n"
          ]
        }
      ]
    },
    {
      "cell_type": "code",
      "metadata": {
        "id": "bH1_OYz3pa78",
        "outputId": "a1aef322-10b5-4667-9730-f9f6f0081b12"
      },
      "source": [
        "# 3. Reshape the 1d array into size 2x5.\n",
        "print(x1.reshape(2,5))\n",
        "\n",
        "## when you want numpy to estimate the other dimension\n",
        "# print(x1.reshape(2,-1))\n",
        "# print(x1.reshape(-1,5))"
      ],
      "execution_count": null,
      "outputs": [
        {
          "name": "stdout",
          "output_type": "stream",
          "text": [
            "[[5 0 3 3 7]\n",
            " [9 3 5 2 4]]\n"
          ]
        }
      ]
    },
    {
      "cell_type": "markdown",
      "metadata": {
        "id": "8p_VZg4rpa78"
      },
      "source": [
        "## Concatenate/Split\n",
        "\n",
        "Concatenate means joining, and Numpy's *.concatenate()* function is used to join two or more arrays of the same shape along a specified axis. Numpy's *.vstack()* (*.hstack()*) can be used for row wise (column wise) joining. Numpy's split/vsplit/hsplit methods are for breaking/splitting the array, opposite to the concatenation. \n",
        "\n",
        "For example, see the code in the following cells:"
      ]
    },
    {
      "cell_type": "code",
      "metadata": {
        "id": "7aS0BXTopa78",
        "outputId": "5c3d228d-932a-485d-9416-12f22f0a1bee"
      },
      "source": [
        "x = np.array([1,2,3])\n",
        "y = np.array([3,2,1])\n",
        "z = np.array([9,9,9])\n",
        "\n",
        "print(np.concatenate((x,y,z)))   # to join all 1d arrays along axis 0"
      ],
      "execution_count": null,
      "outputs": [
        {
          "name": "stdout",
          "output_type": "stream",
          "text": [
            "[1 2 3 3 2 1 9 9 9]\n"
          ]
        }
      ]
    },
    {
      "cell_type": "code",
      "metadata": {
        "id": "ES6gi1Jfpa79",
        "outputId": "4eacb84c-984a-41fa-a27f-675c665e0afe"
      },
      "source": [
        "x = np.array([1,2,3])\n",
        "y = np.array([3,2,1])\n",
        "z = np.array([9,9,9])\n",
        "\n",
        "print(np.vstack((x,y,z)))  # to vertically stack all 1d arrays "
      ],
      "execution_count": null,
      "outputs": [
        {
          "name": "stdout",
          "output_type": "stream",
          "text": [
            "[[1 2 3]\n",
            " [3 2 1]\n",
            " [9 9 9]]\n"
          ]
        }
      ]
    },
    {
      "cell_type": "code",
      "metadata": {
        "id": "qrH97u_fpa79",
        "outputId": "b7c86bc3-ed20-4437-cc1c-dcdb8fb23dd1"
      },
      "source": [
        "x = np.array( [1,2,3])\n",
        "y = np.array([[9,8,7],\n",
        "              [6,5,4]])\n",
        "\n",
        "np.vstack([x,y])  # vertically stack the arrays"
      ],
      "execution_count": null,
      "outputs": [
        {
          "data": {
            "text/plain": [
              "array([[1, 2, 3],\n",
              "       [9, 8, 7],\n",
              "       [6, 5, 4]])"
            ]
          },
          "execution_count": 76,
          "metadata": {},
          "output_type": "execute_result"
        }
      ]
    },
    {
      "cell_type": "code",
      "metadata": {
        "id": "rYfjlWHwpa79",
        "outputId": "9b7ea36f-91fe-4671-ed8c-5136495769f5"
      },
      "source": [
        "y = np.array([[9,8,7],\n",
        "              [6,5,4]])\n",
        "\n",
        "z = np.array([[99],\n",
        "              [99]])\n",
        "\n",
        "np.hstack([z,y])  # horizontally stack the arrays"
      ],
      "execution_count": null,
      "outputs": [
        {
          "data": {
            "text/plain": [
              "array([[99,  9,  8,  7],\n",
              "       [99,  6,  5,  4]])"
            ]
          },
          "execution_count": 77,
          "metadata": {},
          "output_type": "execute_result"
        }
      ]
    },
    {
      "cell_type": "code",
      "metadata": {
        "id": "1CbpCocWpa7-",
        "outputId": "b2a902f1-24d8-461f-c09b-53eed84a441a"
      },
      "source": [
        "# An example to split array into three sub-arrays using the given break points\n",
        "\n",
        "x = [1,2,3,99,99,3,2,1]\n",
        "print(x)\n",
        "\n",
        "x1, x2, x3 = np.split(x, [3,5])\n",
        "print(x1, x2, x3)"
      ],
      "execution_count": null,
      "outputs": [
        {
          "name": "stdout",
          "output_type": "stream",
          "text": [
            "[1, 2, 3, 99, 99, 3, 2, 1]\n",
            "[1 2 3] [99 99] [3 2 1]\n"
          ]
        }
      ]
    },
    {
      "cell_type": "code",
      "metadata": {
        "id": "SwpkMnXfpa7-",
        "outputId": "a878a1e8-73de-4dd8-e91d-3969a465ed53"
      },
      "source": [
        "# An example to split 2d-array into three sub-arrays using the given break points\n",
        "\n",
        "x = np.array([[1,2,3,99],[99,3,2,1]])\n",
        "print(x)\n",
        "\n",
        "#  Split along the rows\n",
        "x1, x2 = np.split(x, 2, axis=0)\n",
        "print(x1, x2)\n",
        "\n",
        "#  Split along the columns\n",
        "x1, x2 = np.split(x, 2, axis=1)\n",
        "print(x1, x2)"
      ],
      "execution_count": null,
      "outputs": [
        {
          "name": "stdout",
          "output_type": "stream",
          "text": [
            "[[ 1  2  3 99]\n",
            " [99  3  2  1]]\n",
            "[[ 1  2  3 99]] [[99  3  2  1]]\n",
            "[[ 1  2]\n",
            " [99  3]] [[ 3 99]\n",
            " [ 2  1]]\n"
          ]
        }
      ]
    },
    {
      "cell_type": "markdown",
      "metadata": {
        "id": "5jcrEQBLpa7_"
      },
      "source": [
        "## Vectorized Operations\n",
        "\n",
        "Vectorized operations are perhaps the most crucial factor to the wide usage of Numpy library. Vectorized operations simply put are those **operations that can be done on arrays without using loops**. \n",
        "\n",
        "For example, do the following:\n",
        "1. Create a random id array, and add, subtract,multiply and divide all the elements with 5.\n",
        "2. Take the square of all elements.\n",
        "3. Find remainder w.r.t 2 for all elements.\n",
        "4. Transform the array as: $-(\\frac{x}{2}+1)^2$, where $x$ is the random 1d array."
      ]
    },
    {
      "cell_type": "code",
      "metadata": {
        "id": "2hkvBcfFpa7_",
        "outputId": "40320f9c-8c4e-47fe-e105-b98080e74771"
      },
      "source": [
        "# 1. Create a random id array, and add, subtract,multiply and divide all the elements with 5.\n",
        "\n",
        "np.random.seed(0) # seed for reproducibility\n",
        "x = np.random.randint(10,size=10) # One-dimensional array\n",
        "print(f\"x = {x}\")\n",
        "\n",
        "print(f\"x + 5 = {x + 5}\") # adding 5 to each element\n",
        "print(f\"x - 5 = {x - 5}\") # subtracting 5 to each element\n",
        "print(f\"x * 5 = {x * 5}\") # multiply each element by 5\n",
        "print(f\"x / 5 = {x / 5}\") # divide each element by 5 \n",
        "print(f\"x // 5 = {x // 5}\") # floor division each element by 5 "
      ],
      "execution_count": null,
      "outputs": [
        {
          "name": "stdout",
          "output_type": "stream",
          "text": [
            "x = [5 0 3 3 7 9 3 5 2 4]\n",
            "x + 5 = [10  5  8  8 12 14  8 10  7  9]\n",
            "x - 5 = [ 0 -5 -2 -2  2  4 -2  0 -3 -1]\n",
            "x * 5 = [25  0 15 15 35 45 15 25 10 20]\n",
            "x / 5 = [1.  0.  0.6 0.6 1.4 1.8 0.6 1.  0.4 0.8]\n",
            "x // 5 = [1 0 0 0 1 1 0 1 0 0]\n"
          ]
        }
      ]
    },
    {
      "cell_type": "code",
      "metadata": {
        "id": "XJYAQ4sMpa7_",
        "outputId": "43b6e4d6-bc56-40c7-b516-de7cb36b3d71"
      },
      "source": [
        "# 2. Take the square of all elements.\n",
        "# 3. Find remainder w.r.t 2 for all elements.\n",
        "print(f\"x ** 2 =  {x ** 2}\")\n",
        "print(f\"x % 2 =  {x % 2}\")"
      ],
      "execution_count": null,
      "outputs": [
        {
          "name": "stdout",
          "output_type": "stream",
          "text": [
            "x ** 2 =  [25  0  9  9 49 81  9 25  4 16]\n",
            "x % 2 =  [1 0 1 1 1 1 1 1 0 0]\n"
          ]
        }
      ]
    },
    {
      "cell_type": "code",
      "metadata": {
        "id": "w6LxHeNwpa8A",
        "outputId": "a5e4b63d-2589-4265-a3c9-c7b4b4ba2ad3"
      },
      "source": [
        "# 4. Transform the array as: $-(\\frac{x}{2}+1)^2$, where $x$ is the random 1d array.\n",
        "newArray=-(0.5*x+1) ** 2\n",
        "\n",
        "print(f\"Given array      : {x}\")\n",
        "print(f\"Transformed array: {newArray}\")"
      ],
      "execution_count": null,
      "outputs": [
        {
          "name": "stdout",
          "output_type": "stream",
          "text": [
            "Given array      : [5 0 3 3 7 9 3 5 2 4]\n",
            "Transformed array: [-12.25  -1.    -6.25  -6.25 -20.25 -30.25  -6.25 -12.25  -4.    -9.  ]\n"
          ]
        }
      ]
    },
    {
      "cell_type": "markdown",
      "metadata": {
        "id": "ZHO8aqufpa8A"
      },
      "source": [
        "## Ufuncs\n",
        "\n",
        "A universal function (or ufunc for short) is a **vectorized** wrapper for a function that takes a fixed number of specific inputs and produces a fixed number of specific outputs. \n",
        "\n",
        "For example, see the following cell:"
      ]
    },
    {
      "cell_type": "code",
      "metadata": {
        "id": "Vk0GOt_Kpa8B",
        "outputId": "5c491e83-6033-49b9-df7e-c87995726310"
      },
      "source": [
        "x = np.array([-2,-1,0,1,2])\n",
        "\n",
        "print(x) # the original array\n",
        "\n",
        "print('-'*10)\n",
        "print(np.abs(x))  # convert all elements to +ve numbers\n",
        "print(np.sqrt(np.abs(x)))  # get square-roots of all abs(elements)\n",
        "print(np.min(x))  # get the min value\n",
        "print(np.max(x))  # get the max value\n",
        "print(np.sum(x))  # get the sum of all value"
      ],
      "execution_count": null,
      "outputs": [
        {
          "name": "stdout",
          "output_type": "stream",
          "text": [
            "[-2 -1  0  1  2]\n",
            "----------\n",
            "[2 1 0 1 2]\n",
            "[1.41421356 1.         0.         1.         1.41421356]\n",
            "-2\n",
            "2\n",
            "0\n"
          ]
        }
      ]
    },
    {
      "cell_type": "markdown",
      "metadata": {
        "id": "aY7MitUTpa8B"
      },
      "source": [
        "## Broadcasting\n",
        "\n",
        "Vectorization involving multiple arrays can be done. Vectorization follows **broadcasting** rules. The key broadcasting rule is: **In order to broadcast, the size of the trailing axes for both arrays in an operation must either be the same size or one of them must be one**. In rough sense, what it means is:\n",
        "1. If two arrays of same dimensions have the same shape, then  corresponding elements can be broadcasted.\n",
        "2. If the arrays do not have the same dimensions, prepend the shape of the lower dimension array with 1s until both arrays have the same dimensions.\n",
        "3. In any dimension where one array had size 1 and the other array had size greater than 1, the first array behaves as if it were copied along that dimension.\n",
        "\n",
        "For example, see the following cells:"
      ]
    },
    {
      "cell_type": "code",
      "metadata": {
        "id": "GhdqiwbApa8B",
        "outputId": "9186f467-5b73-4534-a3be-fec1d650809a"
      },
      "source": [
        "# 1. Add/multiply corresponding elements of two similar sized 1d arrays.\n",
        "x = np.array([0,1,2])\n",
        "y = np.array([5,5,3])\n",
        "\n",
        "print(f\"The dimensions for the arrays are: {x.shape} & {y.shape}.\\n\\n\")\n",
        "\n",
        "print(f'  array 1: {x}')\n",
        "print(f'  array 2: {y}')\n",
        "print('-'*20)\n",
        "print(f'array sum: {x+y}')\n",
        "print(f'array dot: {x*y}')\n",
        "\n",
        "## list1 + list2, where list1 and list2 are Python 1d lists results in concatenation!\n",
        "## list1 * list2, where list1 and list2 are Python 1d lists results in error!"
      ],
      "execution_count": null,
      "outputs": [
        {
          "name": "stdout",
          "output_type": "stream",
          "text": [
            "The dimensions for the arrays are: (3,) & (3,).\n",
            "\n",
            "\n",
            "  array 1: [0 1 2]\n",
            "  array 2: [5 5 3]\n",
            "--------------------\n",
            "array sum: [5 6 5]\n",
            "array dot: [0 5 6]\n"
          ]
        }
      ]
    },
    {
      "cell_type": "code",
      "metadata": {
        "id": "G5cWpIbVpa8C",
        "outputId": "f000488b-1699-4fd4-dcce-5c6889826d4e"
      },
      "source": [
        "# 2. Add/multiply corresponding elements of two different sized arrays. \n",
        "M = np.ones((2,3), dtype='int')\n",
        "a = np.arange(3,dtype='int')\n",
        "print(f\"The dimensions for the arrays are: {M.shape} & {a.shape}.\\n\\n\")\n",
        "\n",
        "print(f'  Matrix 1:\\n {M}')\n",
        "print(f'   Array 1:\\n {a}')\n",
        "print('-'*10)\n",
        "print(f'   The sum:\\n {M+a}')\n",
        "print(f'   The dot:\\n {M*a}')"
      ],
      "execution_count": null,
      "outputs": [
        {
          "name": "stdout",
          "output_type": "stream",
          "text": [
            "The dimensions for the arrays are: (2, 3) & (3,).\n",
            "\n",
            "\n",
            "  Matrix 1:\n",
            " [[1 1 1]\n",
            " [1 1 1]]\n",
            "   Array 1:\n",
            " [0 1 2]\n",
            "----------\n",
            "   The sum:\n",
            " [[1 2 3]\n",
            " [1 2 3]]\n",
            "   The dot:\n",
            " [[0 1 2]\n",
            " [0 1 2]]\n"
          ]
        }
      ]
    },
    {
      "cell_type": "markdown",
      "metadata": {
        "id": "eF0VWwrPpa8D"
      },
      "source": [
        "## Masking \n",
        "\n",
        "Masked array is an **array of booleans** that determines for each element of the associated array whether the value is valid or not. The masked arrays are obtained using different conditions. Numpy array comparison are vectorized too.\n",
        "\n",
        "For example, see the following cells:"
      ]
    },
    {
      "cell_type": "code",
      "metadata": {
        "id": "zBxluIFhpa8D",
        "outputId": "354c610d-dc0d-40f4-ea34-000e0f3ec55e"
      },
      "source": [
        "x = np.array([1,2,3,4,5,6])\n",
        "\n",
        "print(x<3)  # less than\n",
        "print(x>3)  # greater than\n",
        "print(x<=3) #less than or equal\n",
        "print(x>=3) #greater than or equal\n",
        "print(x!=3) #not equal\n",
        "print(x==3) #equal"
      ],
      "execution_count": null,
      "outputs": [
        {
          "name": "stdout",
          "output_type": "stream",
          "text": [
            "[ True  True False False False False]\n",
            "[False False False  True  True  True]\n",
            "[ True  True  True False False False]\n",
            "[False False  True  True  True  True]\n",
            "[ True  True False  True  True  True]\n",
            "[False False  True False False False]\n"
          ]
        }
      ]
    },
    {
      "cell_type": "code",
      "metadata": {
        "id": "2oxWvBfOpa8E",
        "outputId": "89ddd65c-e3fe-45b5-c126-98d4716087e1"
      },
      "source": [
        "mask=x<3  # masked array that shows which elements of x are strictly less than 3\n",
        "x[mask]"
      ],
      "execution_count": null,
      "outputs": [
        {
          "data": {
            "text/plain": [
              "array([1, 2])"
            ]
          },
          "execution_count": 87,
          "metadata": {},
          "output_type": "execute_result"
        }
      ]
    },
    {
      "cell_type": "code",
      "metadata": {
        "id": "FW9DxTxbpa8E",
        "outputId": "af67ed99-4b11-45d6-87b6-af710747ec95"
      },
      "source": [
        "mask=(x > 2) & (x < 5)  # shows which elements of x are strictly between than 2 and 5\n",
        "x[mask]"
      ],
      "execution_count": null,
      "outputs": [
        {
          "data": {
            "text/plain": [
              "array([3, 4])"
            ]
          },
          "execution_count": 88,
          "metadata": {},
          "output_type": "execute_result"
        }
      ]
    },
    {
      "cell_type": "code",
      "metadata": {
        "id": "dOhsoaqGpa8E",
        "outputId": "afee1bc6-7613-4a05-d922-f3eea6c31eed"
      },
      "source": [
        "mask=(x < 2) | (x >= 5)  # shows which elements of x are not in between than 2 and 4\n",
        "x[mask]"
      ],
      "execution_count": null,
      "outputs": [
        {
          "data": {
            "text/plain": [
              "array([1, 5, 6])"
            ]
          },
          "execution_count": 89,
          "metadata": {},
          "output_type": "execute_result"
        }
      ]
    },
    {
      "cell_type": "markdown",
      "metadata": {
        "id": "P3IrpX8qpa8F"
      },
      "source": [
        "# References\n",
        "## Online:   \n",
        "\n",
        "1. https://docs.python.org/3/ 📃\n",
        "2. https://numpy.org/ 📃\n",
        "\n"
      ]
    }
  ]
}